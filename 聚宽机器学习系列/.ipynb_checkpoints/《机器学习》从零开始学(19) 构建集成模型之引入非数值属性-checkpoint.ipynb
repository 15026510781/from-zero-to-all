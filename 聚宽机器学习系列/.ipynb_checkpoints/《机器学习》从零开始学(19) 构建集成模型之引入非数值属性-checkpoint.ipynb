{
 "cells": [
  {
   "cell_type": "markdown",
   "metadata": {},
   "source": [
    "## 2) 用Python集成方法引入非数值属性\n",
    "\n",
    "### 随机森林模型来预测鲍鱼的年龄\n",
    "\n",
    "沿用本笔记系列的第9节的第3小段学过的非数值属性的处理技巧。 本例要训练500组随机森林，所以要有点耐心等待程序运行完毕。"
   ]
  },
  {
   "cell_type": "code",
   "execution_count": 14,
   "metadata": {},
   "outputs": [],
   "source": [
    "import pandas as pd\n",
    "import numpy as np\n",
    "import matplotlib.pyplot as plt\n",
    "\n",
    "from sklearn.model_selection import train_test_split\n",
    "from sklearn import ensemble\n",
    "from sklearn.metrics import mean_squared_error"
   ]
  },
  {
   "cell_type": "code",
   "execution_count": 15,
   "metadata": {},
   "outputs": [],
   "source": [
    "target_url = \"https://archive.ics.uci.edu/ml/machine-learning-databases/abalone/abalone.data\"\n",
    "df = pd.read_csv(target_url, header=None, prefix='V')"
   ]
  },
  {
   "cell_type": "code",
   "execution_count": 16,
   "metadata": {},
   "outputs": [
    {
     "data": {
      "text/plain": [
       "(4177, 8)"
      ]
     },
     "execution_count": 16,
     "metadata": {},
     "output_type": "execute_result"
    }
   ],
   "source": [
    "# 切分属性和标签\n",
    "xData = df.values[:,:-1]; yData = df.values[:,-1] \n",
    "m, n = xData.shape\n",
    "m,n"
   ]
  },
  {
   "cell_type": "code",
   "execution_count": 19,
   "metadata": {},
   "outputs": [
    {
     "data": {
      "text/plain": [
       "array(['M', 'M', 'F', ..., 'M', 'F', 'M'], dtype=object)"
      ]
     },
     "execution_count": 19,
     "metadata": {},
     "output_type": "execute_result"
    }
   ],
   "source": [
    "# 用2列新属性置换1列老属性\n",
    "sex = xData[:,0]\n",
    "sex"
   ]
  },
  {
   "cell_type": "code",
   "execution_count": 20,
   "metadata": {},
   "outputs": [
    {
     "data": {
      "text/plain": [
       "array([[0.0, 0.0, 0.455, ..., 0.2245, 0.10099999999999999, 0.15],\n",
       "       [0.0, 0.0, 0.35, ..., 0.0995, 0.0485, 0.07],\n",
       "       [0.0, 0.0, 0.53, ..., 0.2565, 0.1415, 0.21],\n",
       "       ...,\n",
       "       [0.0, 0.0, 0.6, ..., 0.5255, 0.2875, 0.308],\n",
       "       [0.0, 0.0, 0.625, ..., 0.531, 0.261, 0.29600000000000004],\n",
       "       [0.0, 0.0, 0.71, ..., 0.9455, 0.3765, 0.495]], dtype=object)"
      ]
     },
     "execution_count": 20,
     "metadata": {},
     "output_type": "execute_result"
    }
   ],
   "source": [
    "xData = np.concatenate((np.zeros((m,2)), xData[:,1:]), axis=1)\n",
    "xData"
   ]
  },
  {
   "cell_type": "code",
   "execution_count": 21,
   "metadata": {},
   "outputs": [],
   "source": [
    "xData = xData.astype(float); yData = yData.astype(float)\n",
    "n = n + 1 "
   ]
  },
  {
   "cell_type": "code",
   "execution_count": 23,
   "metadata": {},
   "outputs": [
    {
     "data": {
      "text/plain": [
       "array([[1.    , 0.    , 0.455 , ..., 0.2245, 0.101 , 0.15  ],\n",
       "       [1.    , 0.    , 0.35  , ..., 0.0995, 0.0485, 0.07  ],\n",
       "       [0.    , 1.    , 0.53  , ..., 0.2565, 0.1415, 0.21  ],\n",
       "       ...,\n",
       "       [1.    , 0.    , 0.6   , ..., 0.5255, 0.2875, 0.308 ],\n",
       "       [0.    , 1.    , 0.625 , ..., 0.531 , 0.261 , 0.296 ],\n",
       "       [1.    , 0.    , 0.71  , ..., 0.9455, 0.3765, 0.495 ]])"
      ]
     },
     "execution_count": 23,
     "metadata": {},
     "output_type": "execute_result"
    }
   ],
   "source": [
    "for i in range(m):\n",
    "    if sex[i] == 'M':\n",
    "        xdata[i,0]=1.0\n",
    "    if sex[i] == 'F':\n",
    "        xdata[i,1]=1.0\n",
    "\n",
    "names = np.array(['性别1','性别2','长度','直径','高度','整体重量', '去壳重量', '脏器重量', '壳的重量', '环数'])\n",
    "xdata"
   ]
  },
  {
   "cell_type": "code",
   "execution_count": 10,
   "metadata": {},
   "outputs": [
    {
     "name": "stdout",
     "output_type": "stream",
     "text": [
      "MSE\n",
      "4.3478835041486565\n"
     ]
    },
    {
     "data": {
      "image/png": "[encoded data removed]",
      "text/plain": [
       "<matplotlib.figure.Figure at 0x7fc1580f0208>"
      ]
     },
     "metadata": {},
     "output_type": "display_data"
    },
    {
     "data": {
      "image/png": "[encoded data removed]",
      "text/plain": [
       "<matplotlib.figure.Figure at 0x7fc1927a1940>"
      ]
     },
     "metadata": {},
     "output_type": "display_data"
    }
   ],
   "source": [
    "# 采样30%的数据作为测试集\n",
    "xTrain, xTest, yTrain, yTest = train_test_split(xData, yData, test_size=0.30, random_state=531)\n",
    "\n",
    "# 随机森林规模序列\n",
    "mseOos = []\n",
    "nTreeList = range(50, 500, 10)\n",
    "for iTrees in nTreeList:   \n",
    "    depth = None # 允许决策树深度持续增长\n",
    "    maxFeat  = 4 # 属性集数目，可试这调整\n",
    "    abaloneRFModel = ensemble.RandomForestRegressor(\n",
    "                            n_estimators=iTrees,  # 决策树的数目\n",
    "                            max_depth=depth,      # 决策树的深度\n",
    "                            max_features=maxFeat, # 属性集数目(如果设置为None,则等同于Bagging方法)\n",
    "                            oob_score=False,      # 不使用样本外估计\n",
    "                            random_state=531)     # 随机数生成器的种子 (在真实的模型训练阶段可设置为None)\n",
    "\n",
    "    abaloneRFModel.fit(xTrain,yTrain)\n",
    "\n",
    "    # 收集测试集的均方误差\n",
    "    prediction = abaloneRFModel.predict(xTest)\n",
    "    mseOos.append(mean_squared_error(yTest, prediction))\n",
    "\n",
    "\n",
    "print(\"MSE\" )\n",
    "print(mseOos[-1])\n",
    "\n",
    "\n",
    "# 绘制均方误差曲线\n",
    "plt.plot(nTreeList, mseOos)\n",
    "plt.xlabel(u'集成方法中决策树的数目')\n",
    "plt.ylabel(u'均方误差')\n",
    "#plot.ylim([0.0, 1.1*max(mseOob)])\n",
    "plt.show()\n",
    "\n",
    "# 绘制属性重要性排序\n",
    "featureImportance = abaloneRFModel.feature_importances_\n",
    "\n",
    "featureImportance = featureImportance / featureImportance.max()\n",
    "sortedIdx = np.argsort(featureImportance)\n",
    "barPos = np.arange(sortedIdx.shape[0]) + .5\n",
    "plt.barh(barPos, featureImportance[sortedIdx], align='center')\n",
    "plt.yticks(barPos, names[sortedIdx])\n",
    "plt.xlabel(u'变量的重要性')\n",
    "plt.subplots_adjust(left=0.2, right=0.9, top=0.9, bottom=0.1)\n",
    "plt.show()"
   ]
  },
  {
   "cell_type": "markdown",
   "metadata": {},
   "source": [
    "### 用梯度提升来预测鲍鱼的年龄\n",
    "\n",
    "性别处理方法和前面一样，继续沿用。\n",
    "\n",
    "下面的代码需要关注的一点就是：随机森林也可以作为梯度集成的基学习器。 \n",
    "\n",
    "但是一般说来，启用随机森林作为基学习器，相比决策树性能并没有明显的差异。"
   ]
  },
  {
   "cell_type": "code",
   "execution_count": 13,
   "metadata": {},
   "outputs": [
    {
     "name": "stdout",
     "output_type": "stream",
     "text": [
      "MSE\n",
      "4.395803391380619\n",
      "1344\n"
     ]
    },
    {
     "data": {
      "image/png": "[encoded data removed]",
      "text/plain": [
       "<matplotlib.figure.Figure at 0x7fc150841f28>"
      ]
     },
     "metadata": {},
     "output_type": "display_data"
    },
    {
     "data": {
      "image/png": "[encoded data removed]",
      "text/plain": [
       "<matplotlib.figure.Figure at 0x7fc15069bfd0>"
      ]
     },
     "metadata": {},
     "output_type": "display_data"
    }
   ],
   "source": [
    "# 采样30%的数据作为测试集\n",
    "xTrain, xTest, yTrain, yTest = train_test_split(xData, yData, test_size=0.30, random_state=531)\n",
    "\n",
    "#instantiate model\n",
    "nEst = 2000\n",
    "depth = 5\n",
    "learnRate = 0.005\n",
    "maxFeatures = 3 # 如果<9则表示以随机森林做基学习器\n",
    "subsamp = 0.5\n",
    "abaloneGBMModel = ensemble.GradientBoostingRegressor(\n",
    "                        n_estimators=nEst,              # 决策树的数目\n",
    "                        max_depth=depth,                # 决策树的深度\n",
    "                        learning_rate=learnRate,        # 学习率\n",
    "                        max_features=maxFeatures,  # 默认值None,对应简单决策树，如果<9则表示以随机森林做基学习器\n",
    "                        subsample=subsamp, # 默认值1就对应\"梯度提升\"， 小于1就变成\"随机梯度提升\"\n",
    "                        loss='ls')\n",
    "\n",
    "# 训练\n",
    "abaloneGBMModel.fit(xTrain, yTrain)\n",
    "\n",
    "# 根据梯度提升发产生的一系列模型，生成对应的一系列预测\n",
    "predictions = abaloneGBMModel.staged_predict(xTest)\n",
    "\n",
    "# 计算测试集上的均方误差\n",
    "msError = []\n",
    "for p in predictions:\n",
    "    msError.append(mean_squared_error(yTest, p))\n",
    "\n",
    "print(\"MSE\" )\n",
    "print(min(msError))\n",
    "print(msError.index(min(msError)))\n",
    "\n",
    "# 绘制均方误差曲线\n",
    "plt.figure()\n",
    "plt.plot(range(1, nEst + 1), abaloneGBMModel.train_score_, label=u'训练集均方误差', linestyle=\":\")\n",
    "plt.plot(range(1, nEst + 1), msError, label=u'测试集均方误差')\n",
    "plt.legend(loc='upper right')\n",
    "plt.xlabel(u'集成方法中决策树的数目')\n",
    "plt.ylabel(u'均方误差')\n",
    "plt.show()\n",
    "\n",
    "# 绘制属性重要性\n",
    "featureImportance = abaloneGBMModel.feature_importances_\n",
    "\n",
    "featureImportance = featureImportance / featureImportance.max()\n",
    "idxSorted = np.argsort(featureImportance)\n",
    "barPos = np.arange(idxSorted.shape[0]) + .5\n",
    "plt.barh(barPos, featureImportance[idxSorted], align='center')\n",
    "plt.yticks(barPos, names[idxSorted])\n",
    "plt.xlabel(u'变量重要性')\n",
    "plt.subplots_adjust(left=0.2, right=0.9, top=0.9, bottom=0.1)\n",
    "plt.show()"
   ]
  },
  {
   "cell_type": "code",
   "execution_count": null,
   "metadata": {},
   "outputs": [],
   "source": []
  }
 ],
 "metadata": {
  "kernelspec": {
   "display_name": "Python 3",
   "language": "python",
   "name": "python3"
  },
  "language_info": {
   "codemirror_mode": {
    "name": "ipython",
    "version": 3
   },
   "file_extension": ".py",
   "mimetype": "text/x-python",
   "name": "python",
   "nbconvert_exporter": "python",
   "pygments_lexer": "ipython3",
   "version": "3.6.4"
  }
 },
 "nbformat": 4,
 "nbformat_minor": 2
}
