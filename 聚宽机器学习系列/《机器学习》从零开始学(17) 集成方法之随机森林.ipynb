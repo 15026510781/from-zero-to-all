{
 "cells": [
  {
   "cell_type": "markdown",
   "metadata": {},
   "source": [
    "## 4) 随机森林\n",
    "\n",
    "我们在第15节学过了**自举集成**（Bagging），现在再学**随机森林**简直是太简单了。\n",
    "\n",
    "**随机森林**和**自举集成**（Bagging）： **自举集成**是对训练集样本（行数据）随机放回抽样；而**随机森林**不但要对对训练集样本（行数据）随机放回抽样，而且要对属性（列数据）随机**无放回**抽样。\n",
    "\n",
    "也就是说， **随机森林** = **自举集成** + 属性集随机选择。\n",
    "\n",
    "当然，既然要“属性集随机选择”， 就不能使用单属性的数据集，前面使用的玩具数据集也就不适用了。本例直接使用红酒口感的数据集。\n",
    "\n",
    "本例我们依然使用二元决策树作为基学习器。\n",
    "\n",
    "很自然，于是下面的代码和第15节的第二段代码也就很相似了。"
   ]
  },
  {
   "cell_type": "code",
   "execution_count": 6,
   "metadata": {},
   "outputs": [
    {
     "data": {
      "image/png": "[encoded data removed]",
      "text/plain": [
       "<matplotlib.figure.Figure at 0x7f812b37c630>"
      ]
     },
     "metadata": {},
     "output_type": "display_data"
    },
    {
     "name": "stdout",
     "output_type": "stream",
     "text": [
      "最小均方误差\n",
      "0.37157098792077264\n"
     ]
    }
   ],
   "source": [
    "import pandas as pd\n",
    "import numpy as np\n",
    "import matplotlib.pyplot as plt\n",
    "\n",
    "from sklearn import tree\n",
    "from sklearn.tree import DecisionTreeRegressor\n",
    "\n",
    "# 获取红酒数据集\n",
    "target_url = \"https://archive.ics.uci.edu/ml/machine-learning-databases/wine-quality/winequality-red.csv\"\n",
    "df = pd.read_csv(target_url, header=0, sep=\";\")\n",
    "df.columns = ['非挥发性酸','挥发性酸','柠檬酸', '残留糖分', '氯化物', '游离二氧化硫','总二氧化硫', '密度', \n",
    "              'PH值', '亚硝酸盐', '酒精含量', '品质']\n",
    "\n",
    "xData = df.values[:,:-1]; yData = df.values[:,-1] \n",
    "m, n = xData.shape\n",
    "\n",
    "'''\n",
    "    采样30%的数据作为测试集\n",
    "'''\n",
    "\n",
    "mSample = int(m * 0.30);\n",
    "np.random.seed(1)\n",
    "idx = list(range(m));  np.random.shuffle(idx)\n",
    "idxTest = idx[:mSample]; idxTest.sort()\n",
    "idxTrain = list(set(idx) - set(idxTest)); idxTrain.sort()\n",
    "xTrain = xData[idxTrain,:]; yTrain = yData[idxTrain]\n",
    "xTest = xData[idxTest,:]; yTest = yData[idxTest]\n",
    "\n",
    "'''\n",
    "    在训练集上生成一系列模型\n",
    "'''\n",
    "\n",
    "# 生成的最大模型数\n",
    "numTreesMax = 30\n",
    "# 决策树深度\n",
    "treeDepth = 12\n",
    "# 随机选择的属性数（算法原作者推荐在回归问题中选择1/3的属性数）\n",
    "nAttr = 4\n",
    "\n",
    "# 收集模型及其对应的预测\n",
    "modelList = []\n",
    "indexList = []\n",
    "predList = []\n",
    "\n",
    "# 用于随机提升（bagging）的样本数 \n",
    "nRfSamples = int(len(xTrain) * 0.5)\n",
    "for iTrees in range(numTreesMax):\n",
    "    # 列数据无放回均匀取样\n",
    "    idxAttr = list(range(n));  np.random.shuffle(idxAttr)\n",
    "    idxAttr = idxAttr[:nAttr]; idxAttr.sort()\n",
    "    indexList.append(list(idxAttr))\n",
    "    \n",
    "    # 行数据有放回均匀取样\n",
    "    idxRows = np.random.choice(m-mSample, nRfSamples)\n",
    "    idxRows.sort()\n",
    "    \n",
    "    # 根据选择行列确定子模型训练集\n",
    "    xRfTrain = xTrain[idxRows][:,idxAttr]\n",
    "    yRfTrain = yTrain[idxRows]\n",
    "    xRfTest = xTest[:,idxAttr]\n",
    "\n",
    "    # 训练数据采样集进行二元决策树训练\n",
    "    modelList.append(DecisionTreeRegressor(max_depth=treeDepth))\n",
    "    modelList[-1].fit(xRfTrain, yRfTrain)\n",
    "\n",
    "    # 预测并收集预测值\n",
    "    latestPrediction = modelList[-1].predict(xRfTest)\n",
    "    predList.append(list(latestPrediction))\n",
    "\n",
    "'''\n",
    "    给定头n个模型 n=1,...，numTreesMax\n",
    "    依次计算n个模型的平均预测值 \n",
    "    依次计算n个模型的均方误差 \n",
    "'''\n",
    "\n",
    "allPredictions = 1.0 * np.cumsum(predList,axis=0) / np.arange(1,numTreesMax+1).reshape(numTreesMax,1)\n",
    "mse = ((yTest - allPredictions)**2).sum(axis=1) / len(yTest)\n",
    "\n",
    "'''\n",
    "    绘制或输出计算结果 \n",
    "'''\n",
    "\n",
    "# 绘制均方误差和模型数之间的关系\n",
    "nModels = [i + 1 for i in range(numTreesMax)]\n",
    "plt.plot(nModels,mse)\n",
    "plt.axis('tight')\n",
    "plt.xlabel(u'所用模型数目')\n",
    "plt.ylabel(u'均方误差')\n",
    "plt.ylim((0.0, max(mse)))\n",
    "plt.show()\n",
    "\n",
    "print(u'最小均方误差')\n",
    "print(min(mse))"
   ]
  },
  {
   "cell_type": "code",
   "execution_count": null,
   "metadata": {},
   "outputs": [],
   "source": []
  }
 ],
 "metadata": {
  "kernelspec": {
   "display_name": "Python 3",
   "language": "python",
   "name": "python3"
  },
  "language_info": {
   "codemirror_mode": {
    "name": "ipython",
    "version": 3
   },
   "file_extension": ".py",
   "mimetype": "text/x-python",
   "name": "python",
   "nbconvert_exporter": "python",
   "pygments_lexer": "ipython3",
   "version": "3.6.4"
  }
 },
 "nbformat": 4,
 "nbformat_minor": 2
}
